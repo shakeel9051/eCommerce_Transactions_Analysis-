{
 "cells": [
  {
   "cell_type": "code",
   "execution_count": 5,
   "id": "610deeed-54d9-4b93-8ef9-e5b6fbf4dd2e",
   "metadata": {},
   "outputs": [],
   "source": [
    "\n",
    "import pandas as pd\n",
    "from sklearn.metrics.pairwise import cosine_similarity\n",
    "\n",
    "# Load the merged dataset\n",
    "data = pd.read_csv('merged_data.csv')"
   ]
  },
  {
   "cell_type": "code",
   "execution_count": 7,
   "id": "996f44bf-5662-4677-a838-ee298dfa3180",
   "metadata": {},
   "outputs": [],
   "source": [
    "from sklearn.metrics.pairwise import cosine_similarity\n",
    "from sklearn.preprocessing import OneHotEncoder\n",
    "\n",
    "encoder = OneHotEncoder()\n",
    "features = encoder.fit_transform(data[['Region', 'Category']])\n",
    "\n",
    "similarity_matrix = cosine_similarity(features)\n"
   ]
  },
  {
   "cell_type": "code",
   "execution_count": 12,
   "id": "09a2e770-7053-43ff-9de3-884d4a5a2666",
   "metadata": {},
   "outputs": [
    {
     "name": "stdout",
     "output_type": "stream",
     "text": [
      "{'C0199': [('C0172', 0.9999999999999998), ('C0073', 0.9999999999999998), ('C0114', 0.9999999999999998)], 'C0146': [('C0115', 0.9999999999999998), ('C0088', 0.9999999999999998), ('C0101', 0.9999999999999998)], 'C0127': [('C0044', 0.9999999999999998), ('C0166', 0.9999999999999998), ('C0069', 0.9999999999999998)], 'C0087': [('C0011', 0.9999999999999998), ('C0191', 0.9999999999999998), ('C0096', 0.9999999999999998)], 'C0070': [('C0044', 0.9999999999999998), ('C0166', 0.9999999999999998), ('C0069', 0.9999999999999998)], 'C0188': [('C0158', 0.9999999999999998), ('C0104', 0.9999999999999998), ('C0003', 0.9999999999999998)], 'C0195': [('C0011', 0.9999999999999998), ('C0191', 0.9999999999999998), ('C0096', 0.9999999999999998)], 'C0008': [('C0068', 0.9999999999999998), ('C0068', 0.9999999999999998), ('C0156', 0.9999999999999998)], 'C0157': [('C0068', 0.9999999999999998), ('C0068', 0.9999999999999998), ('C0156', 0.9999999999999998)], 'C0130': [('C0011', 0.9999999999999998), ('C0191', 0.9999999999999998), ('C0096', 0.9999999999999998)], 'C0051': [('C0044', 0.9999999999999998), ('C0166', 0.9999999999999998), ('C0069', 0.9999999999999998)], 'C0075': [('C0044', 0.9999999999999998), ('C0166', 0.9999999999999998), ('C0069', 0.9999999999999998)], 'C0155': [('C0011', 0.9999999999999998), ('C0191', 0.9999999999999998), ('C0096', 0.9999999999999998)], 'C0154': [('C0055', 0.9999999999999998), ('C0008', 0.9999999999999998), ('C0030', 0.9999999999999998)], 'C0035': [('C0055', 0.9999999999999998), ('C0008', 0.9999999999999998), ('C0030', 0.9999999999999998)], 'C0065': [('C0055', 0.9999999999999998), ('C0008', 0.9999999999999998), ('C0030', 0.9999999999999998)], 'C0121': [('C0172', 0.9999999999999998), ('C0073', 0.9999999999999998), ('C0114', 0.9999999999999998)], 'C0194': [('C0055', 0.9999999999999998), ('C0008', 0.9999999999999998), ('C0030', 0.9999999999999998)]}\n"
     ]
    }
   ],
   "source": [
    "\n",
    "recommendations = {}\n",
    "for i in range(20):\n",
    "    similar_indices = similarity_matrix[i].argsort()[-4:-1][::-1]\n",
    "    recommendations[data['CustomerID'].iloc[i]] = [\n",
    "        (data['CustomerID'].iloc[j], similarity_matrix[i, j]) for j in similar_indices\n",
    "    ]\n",
    "print(recommendations)\n"
   ]
  },
  {
   "cell_type": "code",
   "execution_count": 13,
   "id": "c82c1410-1c49-4143-9660-ecac12b0ea4d",
   "metadata": {},
   "outputs": [],
   "source": [
    "data = pd.read_csv('merged_data.csv')\n"
   ]
  },
  {
   "cell_type": "code",
   "execution_count": 15,
   "id": "33bc56d8-4b27-43ce-9048-2a520a9731fc",
   "metadata": {},
   "outputs": [],
   "source": [
    "\n",
    "lookalike_results = {\n",
    "    'CustomerID': ['C0001', 'C0002', 'C0003', ...],  # Replace with actual Customer IDs\n",
    "    'Lookalike1': ['C0015', 'C0032', 'C0078', ...],  # Replace with the top 1 lookalikes\n",
    "    'Score1': [0.85, 0.75, 0.88, ...],  # Replace with their similarity scores\n",
    "    'Lookalike2': ['C0022', 'C0045', 'C0089', ...],  # Replace with the top 2 lookalikes\n",
    "    'Score2': [0.82, 0.78, 0.85, ...],  # Replace with their similarity scores\n",
    "    'Lookalike3': ['C0034', 'C0056', 'C0092', ...],  # Replace with the top 3 lookalikes\n",
    "    'Score3': [0.79, 0.74, 0.82, ...]  # Replace with their similarity scores\n",
    "}\n",
    "\n",
    "import pandas as pd\n",
    "lookalike_df = pd.DataFrame(lookalike_results)\n",
    "\n",
    "lookalike_df.to_csv('Shaik_Mohammed_Shakeel_Lookalike.csv', index=False)\n"
   ]
  },
  {
   "cell_type": "code",
   "execution_count": null,
   "id": "d1c3a4ac-ddb8-4907-b5dc-9017c8edb13d",
   "metadata": {},
   "outputs": [],
   "source": []
  },
  {
   "cell_type": "code",
   "execution_count": null,
   "id": "d6305c2e-8792-4231-897d-0faee6e9557b",
   "metadata": {},
   "outputs": [],
   "source": []
  }
 ],
 "metadata": {
  "kernelspec": {
   "display_name": "Python 3 (ipykernel)",
   "language": "python",
   "name": "python3"
  },
  "language_info": {
   "codemirror_mode": {
    "name": "ipython",
    "version": 3
   },
   "file_extension": ".py",
   "mimetype": "text/x-python",
   "name": "python",
   "nbconvert_exporter": "python",
   "pygments_lexer": "ipython3",
   "version": "3.10.6"
  },
  "widgets": {
   "application/vnd.jupyter.widget-state+json": {
    "state": {},
    "version_major": 2,
    "version_minor": 0
   }
  }
 },
 "nbformat": 4,
 "nbformat_minor": 5
}
